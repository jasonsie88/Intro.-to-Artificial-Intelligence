{
  "nbformat": 4,
  "nbformat_minor": 0,
  "metadata": {
    "colab": {
      "name": "0000000_1.ipynb",
      "provenance": [],
      "collapsed_sections": [],
      "toc_visible": true
    },
    "kernelspec": {
      "name": "python3",
      "display_name": "Python 3"
    }
  },
  "cells": [
    {
      "cell_type": "markdown",
      "metadata": {
        "id": "phl4Y2-kWRwN"
      },
      "source": [
        "# Artificial Intelligence - Assignment 1\n",
        "\n",
        "## 1. Description\n",
        "\n",
        "In this assignment, you are going to solve the 8-puzzle using any algorithm. The `EightPuzzle` class is written and provided by TAs, you don't need to implement the puzzle yourself, just import and use.\n",
        "\n",
        "## 2. How to use `EightPuzzle`\n",
        "\n",
        "```python\n",
        "from eight_puzzle import EightPuzzle # import\n",
        "\n",
        "puzzle = EightPuzzle()\n",
        "\n",
        "puzzle.init()     # initialize a solvable puzzle state\n",
        "puzzle.init(seed) # initialize a solvable puzzle state using a seed\n",
        "print(puzzle)     # show current puzzle state\n",
        "\n",
        "# move\n",
        "puzzle.move('up')\n",
        "puzzle.move('down')\n",
        "puzzle.move('left')\n",
        "puzzle.move('right')\n",
        "\n",
        "if puzzle.state == puzzle.FINAL_STATE:\n",
        "  print('You have solved the puzzle')\n",
        "\n",
        "# Useful: get the next state after you move in a direction,\n",
        "# this won't change the internal state of EightPuzzle.\n",
        "state_after_move_up = puzzle.get_state_after_move(current_state, 'up')\n",
        "\n",
        "```\n",
        "\n"
      ]
    },
    {
      "cell_type": "code",
      "metadata": {
        "id": "402LsZPhUmgl",
        "colab": {
          "base_uri": "https://localhost:8080/"
        },
        "outputId": "05434e9e-c822-4f71-c4a9-25dc733faf47"
      },
      "source": [
        "# NOTE: PLEASE KEEP THIS CELL NOT MODIFIED!\n",
        "\n",
        "# download eight_puzzle.py (YOU SHOULD NOT MODIFY eight_puzzle.py)\n",
        "!wget https://lab.djosix.com/eight_puzzle.py -qO eight_puzzle.py\n",
        "!sha1sum eight_puzzle.py\n",
        "\n",
        "from eight_puzzle import EightPuzzle, test"
      ],
      "execution_count": 1,
      "outputs": [
        {
          "output_type": "stream",
          "text": [
            "1b9a6e8af95aed1010690788274f6c453ae88ed6  eight_puzzle.py\n"
          ],
          "name": "stdout"
        }
      ]
    },
    {
      "cell_type": "markdown",
      "metadata": {
        "id": "yCDHjleOb9Fd"
      },
      "source": [
        "## 3. Implement a search algorithm to solve 8-puzzle"
      ]
    },
    {
      "cell_type": "code",
      "metadata": {
        "id": "_OuRn868WNW0"
      },
      "source": [
        "def myfunc(e):\n",
        "  return e[1]\n",
        "def solve(p):\n",
        "    h=0\n",
        "    count=0\n",
        "    s=list (p.state)\n",
        "    fs=list (p.FINAL_STATE)\n",
        "    for i in range(0,9):\n",
        "      if s[i]!=fs[i]:\n",
        "        h+=1  #heruristic  the numberof misplaced tile\n",
        "    q = [(p.state,count+h)]    # A* queue\n",
        "    v = {p.state: []} # map: state -> path to that state\n",
        "    while q:\n",
        "        #count+=1\n",
        "        q.sort(key=myfunc)\n",
        "        #print(q[0])\n",
        "        state = list(q.pop(0))\n",
        "        #print(state[1])\n",
        "        if state[0] == p.FINAL_STATE:\n",
        "            return v[state[0]]\n",
        "        for d in p.DIRECTIONS:\n",
        "            next_state = p.get_state_after_move(state[0], d)\n",
        "            if next_state is not None and next_state not in v:\n",
        "                ns=list(next_state)\n",
        "                v[next_state] = v[state[0]] + [d]\n",
        "                tmp=0\n",
        "                for i in range(0,9):\n",
        "                  if ns[i]!=fs[i]:\n",
        "                    tmp+=1\n",
        "                q.append((next_state,tmp+count))\n",
        "\n",
        "    return []"
      ],
      "execution_count": 9,
      "outputs": []
    },
    {
      "cell_type": "markdown",
      "metadata": {
        "id": "MPBYw09wWPSL"
      },
      "source": [
        "## 4. Test your algorithm"
      ]
    },
    {
      "cell_type": "code",
      "metadata": {
        "id": "567OKKy0psOR",
        "colab": {
          "base_uri": "https://localhost:8080/"
        },
        "outputId": "f9c035b3-31b6-45f6-97da-ad34f04a9181"
      },
      "source": [
        "# NOTE: PLEASE KEEP THIS CELL NOT MODIFIED!\n",
        "\n",
        "results = test(solve, seed=1, n=100)"
      ],
      "execution_count": 11,
      "outputs": [
        {
          "output_type": "stream",
          "text": [
            "Running tests with seed: 1\n",
            "Test | seed: 17532741 | puzzle: (8, 5, 6, 0, 4, 7, 2, 1, 3) | elapsed: 0.0339s | solved\n",
            "Test | seed: 74572392 | puzzle: (1, 7, 2, 0, 6, 4, 3, 8, 5) | elapsed: 0.0094s | solved\n",
            "Test | seed: 58954043 | puzzle: (1, 6, 0, 3, 2, 5, 4, 7, 8) | elapsed: 0.0261s | solved\n",
            "Test | seed: 86504015 | puzzle: (8, 1, 3, 4, 0, 5, 6, 7, 2) | elapsed: 0.0085s | solved\n",
            "Test | seed: 84410468 | puzzle: (4, 5, 8, 2, 7, 0, 1, 6, 3) | elapsed: 0.0288s | solved\n",
            "Test | seed: 36821992 | puzzle: (1, 3, 8, 0, 6, 7, 2, 4, 5) | elapsed: 0.0081s | solved\n",
            "Test | seed: 77742434 | puzzle: (5, 1, 0, 8, 2, 7, 4, 6, 3) | elapsed: 0.0337s | solved\n",
            "Test | seed: 65485614 | puzzle: (1, 0, 3, 8, 2, 5, 6, 4, 7) | elapsed: 0.0058s | solved\n",
            "Test | seed: 75085546 | puzzle: (2, 3, 5, 4, 0, 8, 7, 1, 6) | elapsed: 0.0260s | solved\n",
            "Test | seed: 57887538 | puzzle: (6, 7, 8, 0, 5, 4, 3, 1, 2) | elapsed: 0.0195s | solved\n",
            "Test | seed: 65623117 | puzzle: (6, 4, 7, 5, 0, 3, 2, 1, 8) | elapsed: 0.0376s | solved\n",
            "Test | seed: 56449792 | puzzle: (5, 2, 1, 8, 3, 4, 7, 6, 0) | elapsed: 0.0187s | solved\n",
            "Test | seed: 10212701 | puzzle: (2, 7, 3, 4, 5, 0, 1, 8, 6) | elapsed: 0.0190s | solved\n",
            "Test | seed: 82273400 | puzzle: (2, 7, 6, 4, 1, 0, 8, 3, 5) | elapsed: 0.0113s | solved\n",
            "Test | seed: 82492277 | puzzle: (1, 7, 4, 5, 0, 2, 8, 6, 3) | elapsed: 0.0326s | solved\n",
            "Test | seed: 93683337 | puzzle: (4, 7, 0, 1, 2, 5, 8, 6, 3) | elapsed: 0.0190s | solved\n",
            "Test | seed: 92201978 | puzzle: (4, 3, 0, 5, 2, 1, 7, 8, 6) | elapsed: 0.0198s | solved\n",
            "Test | seed: 54444516 | puzzle: (5, 8, 4, 0, 6, 1, 2, 3, 7) | elapsed: 0.0775s | solved\n",
            "Test | seed: 71491422 | puzzle: (6, 1, 4, 2, 5, 0, 3, 7, 8) | elapsed: 0.0256s | solved\n",
            "Test | seed: 90511200 | puzzle: (8, 3, 0, 2, 5, 7, 6, 4, 1) | elapsed: 0.0178s | solved\n",
            "Test | seed: 13754738 | puzzle: (0, 2, 4, 5, 1, 8, 3, 6, 7) | elapsed: 0.0090s | solved\n",
            "Test | seed: 40817065 | puzzle: (5, 8, 0, 3, 7, 2, 4, 1, 6) | elapsed: 0.0155s | solved\n",
            "Test | seed: 95278064 | puzzle: (8, 0, 1, 5, 6, 7, 3, 4, 2) | elapsed: 0.0594s | solved\n",
            "Test | seed: 33784892 | puzzle: (6, 5, 4, 3, 8, 2, 1, 7, 0) | elapsed: 0.0206s | solved\n",
            "Test | seed: 83921254 | puzzle: (4, 0, 8, 6, 5, 3, 1, 2, 7) | elapsed: 0.0302s | solved\n",
            "Test | seed: 88445010 | puzzle: (7, 3, 5, 1, 2, 6, 4, 8, 0) | elapsed: 0.0407s | solved\n",
            "Test | seed: 34264416 | puzzle: (2, 5, 4, 7, 0, 3, 1, 6, 8) | elapsed: 0.0151s | solved\n",
            "Test | seed: 22294532 | puzzle: (7, 0, 2, 5, 4, 6, 1, 3, 8) | elapsed: 0.0761s | solved\n",
            "Test | seed: 83957878 | puzzle: (5, 7, 2, 8, 0, 1, 6, 3, 4) | elapsed: 0.0232s | solved\n",
            "Test | seed: 44264986 | puzzle: (5, 8, 0, 2, 1, 4, 6, 7, 3) | elapsed: 0.0304s | solved\n",
            "Test | seed: 14356590 | puzzle: (4, 1, 3, 8, 6, 2, 5, 0, 7) | elapsed: 0.0089s | solved\n",
            "Test | seed: 19456105 | puzzle: (3, 0, 4, 1, 2, 7, 5, 6, 8) | elapsed: 0.0261s | solved\n",
            "Test | seed: 21171496 | puzzle: (6, 1, 4, 0, 7, 5, 3, 8, 2) | elapsed: 0.1140s | solved\n",
            "Test | seed: 12240178 | puzzle: (6, 2, 3, 5, 7, 0, 4, 1, 8) | elapsed: 0.0162s | solved\n",
            "Test | seed: 70800468 | puzzle: (1, 0, 5, 6, 2, 3, 4, 7, 8) | elapsed: 0.0167s | solved\n",
            "Test | seed: 11954206 | puzzle: (1, 3, 2, 7, 8, 5, 4, 0, 6) | elapsed: 0.0162s | solved\n",
            "Test | seed: 47741579 | puzzle: (5, 1, 0, 7, 4, 3, 6, 2, 8) | elapsed: 0.0673s | solved\n",
            "Test | seed: 43495272 | puzzle: (7, 6, 8, 5, 2, 0, 1, 4, 3) | elapsed: 0.0730s | solved\n",
            "Test | seed: 46056483 | puzzle: (3, 0, 2, 5, 7, 4, 6, 1, 8) | elapsed: 0.0103s | solved\n",
            "Test | seed: 24695314 | puzzle: (8, 1, 5, 4, 0, 3, 7, 6, 2) | elapsed: 0.0224s | solved\n",
            "Test | seed: 93859516 | puzzle: (4, 1, 6, 8, 5, 0, 2, 3, 7) | elapsed: 0.0926s | solved\n",
            "Test | seed: 34777959 | puzzle: (0, 4, 3, 7, 1, 6, 5, 2, 8) | elapsed: 0.0091s | solved\n",
            "Test | seed: 56227654 | puzzle: (3, 6, 5, 1, 7, 0, 4, 2, 8) | elapsed: 0.0170s | solved\n",
            "Test | seed: 48961302 | puzzle: (1, 7, 8, 3, 4, 0, 6, 2, 5) | elapsed: 0.0933s | solved\n",
            "Test | seed: 19330196 | puzzle: (5, 0, 3, 6, 8, 1, 4, 2, 7) | elapsed: 0.0837s | solved\n",
            "Test | seed: 32477484 | puzzle: (8, 3, 4, 1, 5, 0, 7, 2, 6) | elapsed: 0.0084s | solved\n",
            "Test | seed: 31424575 | puzzle: (3, 5, 8, 1, 4, 2, 7, 0, 6) | elapsed: 0.0069s | solved\n",
            "Test | seed: 44254527 | puzzle: (7, 2, 5, 8, 0, 1, 4, 6, 3) | elapsed: 0.0483s | solved\n",
            "Test | seed: 80783798 | puzzle: (1, 4, 5, 0, 6, 3, 2, 8, 7) | elapsed: 0.0234s | solved\n",
            "Test | seed: 32568032 | puzzle: (0, 2, 8, 7, 1, 5, 3, 4, 6) | elapsed: 0.0294s | solved\n",
            "Test | seed: 98134944 | puzzle: (6, 0, 4, 5, 3, 7, 2, 1, 8) | elapsed: 0.0133s | solved\n",
            "Test | seed: 46629955 | puzzle: (1, 0, 2, 7, 4, 5, 8, 3, 6) | elapsed: 0.0067s | solved\n",
            "Test | seed: 97000307 | puzzle: (6, 7, 3, 4, 1, 8, 2, 0, 5) | elapsed: 0.0688s | solved\n",
            "Test | seed: 49526151 | puzzle: (7, 6, 8, 3, 1, 0, 2, 4, 5) | elapsed: 0.0047s | solved\n",
            "Test | seed: 71029019 | puzzle: (2, 0, 6, 1, 5, 7, 4, 3, 8) | elapsed: 0.0505s | solved\n",
            "Test | seed: 53218345 | puzzle: (0, 5, 2, 3, 6, 7, 8, 1, 4) | elapsed: 0.1189s | solved\n",
            "Test | seed: 76638250 | puzzle: (8, 7, 6, 4, 0, 2, 1, 3, 5) | elapsed: 0.0090s | solved\n",
            "Test | seed: 73588469 | puzzle: (7, 4, 1, 6, 2, 0, 5, 8, 3) | elapsed: 0.0259s | solved\n",
            "Test | seed: 25326409 | puzzle: (8, 6, 1, 0, 3, 2, 7, 5, 4) | elapsed: 0.0123s | solved\n",
            "Test | seed: 13172179 | puzzle: (5, 1, 3, 6, 8, 7, 2, 0, 4) | elapsed: 0.0102s | solved\n",
            "Test | seed: 51876592 | puzzle: (2, 6, 5, 4, 1, 0, 3, 7, 8) | elapsed: 0.0234s | solved\n",
            "Test | seed: 61882816 | puzzle: (8, 1, 6, 4, 2, 0, 3, 7, 5) | elapsed: 0.0268s | solved\n",
            "Test | seed: 56082646 | puzzle: (5, 3, 0, 8, 1, 7, 4, 6, 2) | elapsed: 0.0233s | solved\n",
            "Test | seed: 66494748 | puzzle: (7, 6, 4, 5, 1, 3, 2, 0, 8) | elapsed: 0.0228s | solved\n",
            "Test | seed: 35238208 | puzzle: (7, 3, 6, 4, 2, 5, 1, 0, 8) | elapsed: 0.0256s | solved\n",
            "Test | seed: 44684657 | puzzle: (6, 8, 7, 3, 0, 1, 4, 5, 2) | elapsed: 0.0106s | solved\n",
            "Test | seed: 24597747 | puzzle: (1, 8, 5, 4, 2, 0, 6, 3, 7) | elapsed: 0.0139s | solved\n",
            "Test | seed: 44018576 | puzzle: (7, 8, 4, 1, 0, 6, 5, 2, 3) | elapsed: 0.0241s | solved\n",
            "Test | seed: 78466607 | puzzle: (3, 6, 5, 0, 7, 2, 8, 4, 1) | elapsed: 0.0519s | solved\n",
            "Test | seed: 38063717 | puzzle: (0, 1, 7, 6, 4, 8, 5, 2, 3) | elapsed: 0.0367s | solved\n",
            "Test | seed: 91288784 | puzzle: (8, 0, 5, 1, 6, 2, 4, 7, 3) | elapsed: 0.0055s | solved\n",
            "Test | seed: 67935826 | puzzle: (2, 7, 8, 3, 5, 6, 1, 4, 0) | elapsed: 0.0409s | solved\n",
            "Test | seed: 12794159 | puzzle: (8, 7, 4, 0, 3, 2, 6, 5, 1) | elapsed: 0.0208s | solved\n",
            "Test | seed: 40249188 | puzzle: (1, 2, 5, 6, 0, 8, 4, 3, 7) | elapsed: 0.0689s | solved\n",
            "Test | seed: 12397735 | puzzle: (7, 8, 4, 6, 5, 2, 3, 1, 0) | elapsed: 0.0186s | solved\n",
            "Test | seed: 63326766 | puzzle: (1, 2, 3, 6, 4, 8, 5, 7, 0) | elapsed: 0.0087s | solved\n",
            "Test | seed: 29657762 | puzzle: (6, 0, 3, 4, 5, 2, 1, 7, 8) | elapsed: 0.0256s | solved\n",
            "Test | seed: 14741381 | puzzle: (1, 6, 8, 0, 3, 5, 4, 7, 2) | elapsed: 0.0040s | solved\n",
            "Test | seed: 31505383 | puzzle: (7, 5, 4, 2, 0, 8, 3, 1, 6) | elapsed: 0.0274s | solved\n",
            "Test | seed: 69816615 | puzzle: (1, 0, 4, 3, 6, 2, 7, 5, 8) | elapsed: 0.0274s | solved\n",
            "Test | seed: 77955685 | puzzle: (6, 0, 1, 3, 5, 7, 8, 2, 4) | elapsed: 0.1145s | solved\n",
            "Test | seed: 67266010 | puzzle: (0, 4, 1, 8, 6, 7, 3, 5, 2) | elapsed: 0.0106s | solved\n",
            "Test | seed: 83108686 | puzzle: (7, 1, 0, 8, 3, 6, 5, 4, 2) | elapsed: 0.0294s | solved\n",
            "Test | seed: 39608396 | puzzle: (3, 7, 6, 2, 4, 0, 1, 8, 5) | elapsed: 0.0183s | solved\n",
            "Test | seed: 94660762 | puzzle: (8, 2, 1, 4, 6, 5, 0, 3, 7) | elapsed: 0.0173s | solved\n",
            "Test | seed: 79336813 | puzzle: (2, 0, 3, 6, 1, 8, 7, 4, 5) | elapsed: 0.0064s | solved\n",
            "Test | seed: 70511395 | puzzle: (7, 4, 1, 0, 6, 8, 5, 3, 2) | elapsed: 0.0046s | solved\n",
            "Test | seed: 39956830 | puzzle: (0, 6, 8, 1, 5, 7, 4, 3, 2) | elapsed: 0.0724s | solved\n",
            "Test | seed: 80316055 | puzzle: (4, 2, 8, 5, 0, 1, 3, 7, 6) | elapsed: 0.0144s | solved\n",
            "Test | seed: 97041058 | puzzle: (0, 2, 7, 4, 3, 5, 8, 1, 6) | elapsed: 0.0248s | solved\n",
            "Test | seed: 14120521 | puzzle: (5, 0, 6, 2, 3, 8, 1, 7, 4) | elapsed: 0.0119s | solved\n",
            "Test | seed: 63002313 | puzzle: (5, 3, 1, 2, 6, 8, 0, 7, 4) | elapsed: 0.0166s | solved\n",
            "Test | seed: 87288736 | puzzle: (0, 1, 2, 8, 3, 5, 7, 4, 6) | elapsed: 0.0638s | solved\n",
            "Test | seed: 53116882 | puzzle: (4, 8, 1, 7, 5, 2, 6, 0, 3) | elapsed: 0.0330s | solved\n",
            "Test | seed: 98560063 | puzzle: (2, 6, 7, 5, 1, 4, 8, 3, 0) | elapsed: 0.0367s | solved\n",
            "Test | seed: 94684388 | puzzle: (2, 5, 4, 7, 0, 6, 8, 3, 1) | elapsed: 0.0639s | solved\n",
            "Test | seed: 67216934 | puzzle: (1, 8, 7, 5, 3, 0, 4, 2, 6) | elapsed: 0.0842s | solved\n",
            "Test | seed: 17890004 | puzzle: (2, 4, 8, 1, 0, 5, 6, 3, 7) | elapsed: 0.0134s | solved\n",
            "Test | seed: 50078212 | puzzle: (0, 2, 6, 8, 4, 5, 1, 3, 7) | elapsed: 0.0119s | solved\n",
            "Test | seed: 26868929 | puzzle: (4, 2, 1, 6, 7, 0, 5, 8, 3) | elapsed: 0.0676s | solved\n",
            "===> Solved: 100/100\n",
            "===> Average elapsed time: 0.0312s\n"
          ],
          "name": "stdout"
        }
      ]
    },
    {
      "cell_type": "markdown",
      "metadata": {
        "id": "zIHyo9QW7S7o"
      },
      "source": [
        "## 5. Submitting your assignment\n",
        "\n",
        "\n",
        "1. You have to save 2 files:\n",
        "  \n",
        "  - Click \"File\" > \"Download .ipynb\" to download `XXXXXXX_1.ipynb`\n",
        "  - Click \"File\" > \"Download .py\" to download `XXXXXXX_1.py`\n",
        "  \n",
        "  where `XXXXXXX` is your student ID.  \n",
        "\n",
        "2. Compress these 2 files into a `.zip` file named `XXXXXXX_1.zip`.\n",
        "\n",
        "3. Upload the zip file to E3.\n",
        "\n",
        "> **NOTE: You should click \"Runtime\" > \"Restart and run all\" before submitting to E3 to check if your program is able to run without any exception.**"
      ]
    }
  ]
}